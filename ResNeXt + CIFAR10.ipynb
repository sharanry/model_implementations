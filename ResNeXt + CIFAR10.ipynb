{
 "cells": [
  {
   "cell_type": "code",
   "execution_count": 1,
   "metadata": {
    "collapsed": true
   },
   "outputs": [],
   "source": [
    "import numpy\n",
    "from torchvision import datasets, transforms\n",
    "import torch.nn as nn\n",
    "import torch.nn.functional as F\n",
    "import torch.optim as optim\n",
    "from torch.autograd import Variable\n",
    "import torch.cuda as cuda\n",
    "import torch\n",
    "import torchvision\n"
   ]
  },
  {
   "cell_type": "code",
   "execution_count": 2,
   "metadata": {},
   "outputs": [],
   "source": [
    "use_gpu = torch.cuda.is_available()"
   ]
  },
  {
   "cell_type": "code",
   "execution_count": 51,
   "metadata": {},
   "outputs": [],
   "source": [
    "class bottleneck(nn.Module):\n",
    "    \n",
    "    def __init__(self, n_channels_in, n_channels, n_channels_out, strides=(1,1), cardinality=1):\n",
    "        \"\"\"\n",
    "        The network is made of multiple residual blocks of similar structure.\n",
    "        There are many skip connections between these blocks to ease training.\n",
    "        \"\"\"\n",
    "        super().__init__()\n",
    "\n",
    "\n",
    "        # WHY???\n",
    "        self.conv1 = nn.Conv2d(in_channels=n_channels_in,\n",
    "                      out_channels=n_channels, \n",
    "                      kernel_size=1, \n",
    "                      stride=1, \n",
    "                     )\n",
    "        self.cl1 = self.common_layers(n_channels)\n",
    "        \n",
    "\n",
    "        # ResNeXt\n",
    "        self.gc1 = self.group_conv(n_channels, strides=strides, cardinality=cardinality)\n",
    "        self.bn1 = nn.BatchNorm2d(n_channels)\n",
    "\n",
    "\n",
    "        self.conv2 = nn.Conv2d(in_channels=n_channels,\n",
    "                          out_channels=n_channels_out, \n",
    "                          kernel_size=1, \n",
    "                          stride=1, \n",
    "                         )\n",
    "        # applying batch norm before adding with the shortcut\n",
    "        self.bn2 = nn.BatchNorm2d(n_channels_out)\n",
    "\n",
    "        # if shortcut is between layers with with differnet sizes\n",
    "        if n_channels_in != n_channels_out or strides != (1,1):\n",
    "            self.project = nn.Conv2d(n_channels_in, n_channels_out, kernel_size=1, stride=strides)\n",
    "        else:\n",
    "            self.project = None\n",
    "\n",
    "        self.relu = nn.LeakyReLU()\n",
    "        \n",
    "\n",
    "    def common_layers(self, n_channels):\n",
    "        return nn.Sequential(nn.BatchNorm2d(n_channels), nn.LeakyReLU() )\n",
    "\n",
    "    def group_conv(self, n_channels, strides, cardinality):\n",
    "\n",
    "        # Cardinality should divide n_channel in order for n_channel(s) to be spilt to #cardinality groups\n",
    "        assert not n_channels % cardinality \n",
    "\n",
    "        # No. of layers in each split\n",
    "        d = n_channels // cardinality\n",
    "\n",
    "        # Splitting layers into different groups and convolving. \n",
    "        # Principle idea of ResNeXt\n",
    "        groups = nn.Conv2d(in_channels=n_channels, \n",
    "                           out_channels=n_channels, \n",
    "                           kernel_size=(3,3), \n",
    "                           stride=strides, \n",
    "                           groups=cardinality,\n",
    "                           padding=1,\n",
    "                           bias=True, \n",
    "                          )\n",
    "\n",
    "        # Concatinating the groups into a single tensor\n",
    "        \n",
    "\n",
    "        return groups\n",
    "\n",
    "    def forward(self, y):\n",
    "        shortcut = y\n",
    "\n",
    "        y = self.conv1(y)\n",
    "        y = self.cl1(y)\n",
    "        y = self.gc1(y)\n",
    "        y = self.bn1(y)\n",
    "        y = self.conv2(y)\n",
    "        y = self.bn2(y)\n",
    "\n",
    "        if callable(self.project):\n",
    "            shortcut = self.project(shortcut)\n",
    "\n",
    "\n",
    "        y += shortcut\n",
    "\n",
    "        y = self.relu(y)\n",
    "\n",
    "        return y\n",
    "\n",
    "\n",
    "\n",
    "\n",
    "\n",
    "class ResNeXt(nn.Module):    \n",
    "    cardinality = 1 # if 1 then ResNet\n",
    "    def __init__(self, cardinality=1):\n",
    "        super(ResNeXt, self).__init__()\n",
    "        \n",
    "         # conv1\n",
    "        self.conv1 = nn.Conv2d(3, 64, kernel_size=7, stride=2, padding=3)\n",
    "        self.bn1 = nn.BatchNorm2d(64)\n",
    "        self.relu = nn.ReLU(inplace=True)\n",
    "\n",
    "        # conv2\n",
    "        self.max_pool = nn.MaxPool2d(kernel_size=3, stride=2, padding=1)\n",
    "\n",
    "\n",
    "\n",
    "        # Simple bottleneck with 64-84-100\n",
    "        \n",
    "        self.rb = bottleneck(64, 84, 100, cardinality=cardinality)\n",
    "\n",
    "        self.avg_pool = nn.AvgPool2d(7)\n",
    "        self.fc = nn.Linear(100, 10)   \n",
    "        \n",
    "        \n",
    "    \n",
    "    def common_layers(self):\n",
    "        return nn.Sequential(nn.BatchNorm2d(64), nn.LeakyReLU(y) )\n",
    "\n",
    "    \n",
    "    \n",
    "    def forward(self, x):\n",
    "        \"\"\"\n",
    "        If cardinality=1, then ResNet otherwise know as ResNeXt\n",
    "        \"\"\"    \n",
    "    \n",
    "    \n",
    "        \n",
    "        x = self.conv1(x)\n",
    "        x = self.bn1(x)\n",
    "        x = self.relu(x)\n",
    "\n",
    "        # conv2\n",
    "        x = self.max_pool(x)\n",
    "\n",
    "\n",
    "\n",
    "        # Simple bottleneck with 64-84-100\n",
    "        \n",
    "        x = self.rb(x)\n",
    "\n",
    "        x = self.avg_pool(x)\n",
    "        \n",
    "        x = x.view(x.size(0), -1)\n",
    "        x = self.fc(x)\n",
    "        \n",
    "        return x\n",
    "        \n",
    "        \n",
    "    \n",
    "    "
   ]
  },
  {
   "cell_type": "code",
   "execution_count": 52,
   "metadata": {},
   "outputs": [
    {
     "name": "stdout",
     "output_type": "stream",
     "text": [
      "ResNeXt(\n",
      "  (conv1): Conv2d (3, 64, kernel_size=(7, 7), stride=(2, 2), padding=(3, 3))\n",
      "  (bn1): BatchNorm2d(64, eps=1e-05, momentum=0.1, affine=True)\n",
      "  (relu): ReLU(inplace)\n",
      "  (max_pool): MaxPool2d(kernel_size=(3, 3), stride=(2, 2), padding=(1, 1), dilation=(1, 1))\n",
      "  (rb): bottleneck(\n",
      "    (conv1): Conv2d (64, 84, kernel_size=(1, 1), stride=(1, 1))\n",
      "    (cl1): Sequential(\n",
      "      (0): BatchNorm2d(84, eps=1e-05, momentum=0.1, affine=True)\n",
      "      (1): LeakyReLU(0.01)\n",
      "    )\n",
      "    (gc1): Conv2d (84, 84, kernel_size=(3, 3), stride=(1, 1), padding=(1, 1))\n",
      "    (bn1): BatchNorm2d(84, eps=1e-05, momentum=0.1, affine=True)\n",
      "    (conv2): Conv2d (84, 100, kernel_size=(1, 1), stride=(1, 1))\n",
      "    (bn2): BatchNorm2d(100, eps=1e-05, momentum=0.1, affine=True)\n",
      "    (project): Conv2d (64, 100, kernel_size=(1, 1), stride=(1, 1))\n",
      "    (relu): LeakyReLU(0.01)\n",
      "  )\n",
      "  (avg_pool): AvgPool2d(kernel_size=7, stride=7, padding=0, ceil_mode=False, count_include_pad=True)\n",
      "  (fc): Linear(in_features=100, out_features=10)\n",
      ")\n"
     ]
    }
   ],
   "source": [
    "net = ResNeXt()\n",
    "print(net)"
   ]
  },
  {
   "cell_type": "code",
   "execution_count": 53,
   "metadata": {},
   "outputs": [
    {
     "name": "stdout",
     "output_type": "stream",
     "text": [
      "Files already downloaded and verified\n",
      "Files already downloaded and verified\n"
     ]
    }
   ],
   "source": [
    "# define transform\n",
    "transform = transforms.Compose([\n",
    "    transforms.ToTensor(),\n",
    "    transforms.Normalize((0.5, 0.5, 0.5), (0.5, 0.5, 0.5))\n",
    "])\n",
    "\n",
    "trainset = datasets.CIFAR10(root='./data', train=True, download=True, transform=transform)\n",
    "trainloader = torch.utils.data.DataLoader(trainset, batch_size=4, shuffle=True, num_workers=2 )\n",
    "\n",
    "testset = datasets.CIFAR10(root='./data', train=False, download=True, transform=transform)\n",
    "testloader = torch.utils.data.DataLoader(trainset, batch_size=4, shuffle=True, num_workers=2 )\n",
    "\n",
    "classes = ('plane', 'car', 'bird', 'cat',\n",
    "           'deer', 'dog', 'frog', 'horse', 'ship', 'truck')"
   ]
  },
  {
   "cell_type": "code",
   "execution_count": 54,
   "metadata": {},
   "outputs": [
    {
     "data": {
      "image/png": "[encoded data removed]",
      "text/plain": [
       "<matplotlib.figure.Figure at 0x7f8202a1b7f0>"
      ]
     },
     "metadata": {},
     "output_type": "display_data"
    },
    {
     "name": "stdout",
     "output_type": "stream",
     "text": [
      " ship plane   dog truck\n"
     ]
    }
   ],
   "source": [
    "%matplotlib inline\n",
    "import matplotlib.pyplot as plt\n",
    "import numpy as np\n",
    "\n",
    "\n",
    "def imshow(img):\n",
    "    \n",
    "    img = img/2 + 0.5 # unnormalize\n",
    "    npimg = img.numpy()\n",
    "#     Permute the axes \n",
    "    plt.imshow(np.transpose(npimg, (1, 2, 0)))\n",
    "    plt.show()\n",
    "    \n",
    "dataiter = iter(trainloader)\n",
    "images, labels = dataiter.next()\n",
    "imshow(torchvision.utils.make_grid(images))\n",
    "print(\" \".join(\"%5s\" % classes[labels[j]] for j in range(len(labels))))"
   ]
  },
  {
   "cell_type": "code",
   "execution_count": 55,
   "metadata": {},
   "outputs": [
    {
     "name": "stdout",
     "output_type": "stream",
     "text": [
      "torch.Size([64, 3, 7, 7])\n",
      "torch.Size([64])\n",
      "torch.Size([64])\n",
      "torch.Size([64])\n",
      "torch.Size([84, 64, 1, 1])\n",
      "torch.Size([84])\n",
      "torch.Size([84])\n",
      "torch.Size([84])\n",
      "torch.Size([84, 84, 3, 3])\n",
      "torch.Size([84])\n",
      "torch.Size([84])\n",
      "torch.Size([84])\n",
      "torch.Size([100, 84, 1, 1])\n",
      "torch.Size([100])\n",
      "torch.Size([100])\n",
      "torch.Size([100])\n",
      "torch.Size([100, 64, 1, 1])\n",
      "torch.Size([100])\n",
      "torch.Size([10, 100])\n",
      "torch.Size([10])\n"
     ]
    }
   ],
   "source": [
    "for i in range(len(list(net.parameters()))):\n",
    "    print(list(net.parameters())[i].size())"
   ]
  },
  {
   "cell_type": "code",
   "execution_count": 56,
   "metadata": {},
   "outputs": [
    {
     "data": {
      "text/plain": [
       "Variable containing:\n",
       "-0.2883  0.1153 -0.1767 -0.0296  0.0362 -0.3902 -0.7177 -0.1144  0.1577  0.2331\n",
       "[torch.cuda.FloatTensor of size 1x10 (GPU 0)]"
      ]
     },
     "execution_count": 56,
     "metadata": {},
     "output_type": "execute_result"
    }
   ],
   "source": [
    "# sanity test\n",
    "input = Variable(torch.randn(1, 3, 32, 32))\n",
    "if use_gpu:\n",
    "    net = net.cuda()\n",
    "    input = input.cuda()\n",
    "# print(input)\n",
    "net.forward(input)"
   ]
  },
  {
   "cell_type": "code",
   "execution_count": 57,
   "metadata": {
    "collapsed": true
   },
   "outputs": [],
   "source": [
    "# Optimization\n",
    "criterion = nn.CrossEntropyLoss()\n",
    "optimizer = optim.Adam(net.parameters())"
   ]
  },
  {
   "cell_type": "code",
   "execution_count": 58,
   "metadata": {
    "collapsed": true
   },
   "outputs": [],
   "source": [
    "# training\n",
    "\n",
    "def train():\n",
    "    for epoch in range(5):\n",
    "        running_loss = 0.0\n",
    "        for i, data in enumerate(trainloader, 0): # stars from 0\n",
    "            inputs, labels = data\n",
    "\n",
    "            if use_gpu:\n",
    "                inputs, labels = Variable(inputs.cuda()), Variable(labels.cuda())\n",
    "            else:\n",
    "                inputs, labels = Variable(inputs), Variable(labels)\n",
    "\n",
    "            optimizer.zero_grad()\n",
    "\n",
    "            outputs = net(inputs)\n",
    "            loss = criterion(outputs, labels)\n",
    "            loss.backward()\n",
    "            optimizer.step()\n",
    "\n",
    "            running_loss += loss.data[0]\n",
    "\n",
    "            if i % 2000 == 1999:    # print every 2000 mini-batches\n",
    "                print('[%d, %5d] loss: %.3f' %\n",
    "                      (epoch + 1, i + 1, running_loss / 2000))\n",
    "                running_loss = 0.0\n",
    "\n",
    "    print('Finished Training')\n",
    "\n"
   ]
  },
  {
   "cell_type": "code",
   "execution_count": 59,
   "metadata": {},
   "outputs": [
    {
     "name": "stdout",
     "output_type": "stream",
     "text": [
      "[1,  2000] loss: 1.941\n",
      "[1,  4000] loss: 1.762\n",
      "[1,  6000] loss: 1.650\n",
      "[1,  8000] loss: 1.556\n",
      "[1, 10000] loss: 1.490\n",
      "[1, 12000] loss: 1.424\n",
      "[2,  2000] loss: 1.400\n",
      "[2,  4000] loss: 1.343\n",
      "[2,  6000] loss: 1.313\n",
      "[2,  8000] loss: 1.277\n",
      "[2, 10000] loss: 1.251\n",
      "[2, 12000] loss: 1.238\n",
      "[3,  2000] loss: 1.198\n",
      "[3,  4000] loss: 1.175\n",
      "[3,  6000] loss: 1.179\n",
      "[3,  8000] loss: 1.141\n",
      "[3, 10000] loss: 1.113\n",
      "[3, 12000] loss: 1.117\n",
      "[4,  2000] loss: 1.077\n",
      "[4,  4000] loss: 1.083\n",
      "[4,  6000] loss: 1.072\n",
      "[4,  8000] loss: 1.064\n",
      "[4, 10000] loss: 1.036\n",
      "[4, 12000] loss: 1.037\n",
      "[5,  2000] loss: 1.000\n",
      "[5,  4000] loss: 1.010\n",
      "[5,  6000] loss: 0.992\n",
      "[5,  8000] loss: 0.986\n",
      "[5, 10000] loss: 0.961\n",
      "[5, 12000] loss: 0.960\n",
      "Finished Training\n"
     ]
    }
   ],
   "source": [
    "train()"
   ]
  },
  {
   "cell_type": "code",
   "execution_count": 60,
   "metadata": {
    "collapsed": true
   },
   "outputs": [],
   "source": [
    "def accuracy(testloader, net):\n",
    "    correct = 0\n",
    "    total = 0\n",
    "\n",
    "    for data in testloader:\n",
    "        images, labels = data\n",
    "        if use_gpu: \n",
    "            outputs = net(Variable(images.cuda()))\n",
    "            labels = labels.cuda()\n",
    "        else: outputs = net(Variable(images))\n",
    "        _, predicted = torch.max(outputs.data, 1)\n",
    "        total += labels.size(0)\n",
    "        correct += (predicted == labels).sum()\n",
    "    print(\"Accuracy: \", 100*correct/total, \"%\")"
   ]
  },
  {
   "cell_type": "code",
   "execution_count": 61,
   "metadata": {},
   "outputs": [
    {
     "name": "stdout",
     "output_type": "stream",
     "text": [
      "Accuracy:  66.392 %\n"
     ]
    }
   ],
   "source": [
    "accuracy(testloader, net)"
   ]
  },
  {
   "cell_type": "code",
   "execution_count": null,
   "metadata": {
    "collapsed": true
   },
   "outputs": [],
   "source": []
  }
 ],
 "metadata": {
  "kernelspec": {
   "display_name": "Python (tfgpu)",
   "language": "python",
   "name": "tfgpu"
  },
  "language_info": {
   "codemirror_mode": {
    "name": "ipython",
    "version": 3
   },
   "file_extension": ".py",
   "mimetype": "text/x-python",
   "name": "python",
   "nbconvert_exporter": "python",
   "pygments_lexer": "ipython3",
   "version": "3.6.1"
  }
 },
 "nbformat": 4,
 "nbformat_minor": 2
}
